{
  "nbformat": 4,
  "nbformat_minor": 0,
  "metadata": {
    "colab": {
      "provenance": [],
      "authorship_tag": "ABX9TyOK0z8gKS21hFhJgS+9HP8G",
      "include_colab_link": true
    },
    "kernelspec": {
      "name": "python3",
      "display_name": "Python 3"
    },
    "language_info": {
      "name": "python"
    }
  },
  "cells": [
    {
      "cell_type": "markdown",
      "metadata": {
        "id": "view-in-github",
        "colab_type": "text"
      },
      "source": [
        "<a href=\"https://colab.research.google.com/github/Luifer27/Situaciones_Civil_Semana_1/blob/main/Situaciones_Civil_Semana_1.ipynb\" target=\"_parent\"><img src=\"https://colab.research.google.com/assets/colab-badge.svg\" alt=\"Open In Colab\"/></a>"
      ]
    },
    {
      "cell_type": "markdown",
      "source": [
        "Situación de Interés en Ingeniería Agrícola : Un agricultor necesita saber cuántos kilogramos\n",
        "de semilla de maíz debe comprar para sembrar un lote rectangular. Conoce la densidad de siembra\n",
        "recomendada (kg por hectárea) y las dimensiones del lote (largo y ancho en metros)"
      ],
      "metadata": {
        "id": "vElFpF6wHwC3"
      }
    },
    {
      "cell_type": "code",
      "execution_count": null,
      "metadata": {
        "id": "jiB6-hKkGs4J"
      },
      "outputs": [],
      "source": [
        "# : Cálculo de Semillas\n",
        "# 1. Saludar al usuario y explicar qué hace el programa.\n",
        "print(\"Bienvenidos al calculo de semillas\")\n",
        "\n",
        "# 2. Pedir al usuario que ingrese el largo del lote en metros (input sin conversion).\n",
        "largo = input(\"Ingrese el largo del lote en metros: \")\n",
        "\n",
        "# 3. Pedir el ancho del lote en metros (input sin conversion).\n",
        "ancho = input(\"Ingrese el ancho del lote en metros: \")\n",
        "\n",
        "# 4. Pedir la densidad de siembra en kg/hectárea (input).\n",
        "densidad = input(\"Ingrese la densidad de siembra en kg/hectárea: \")\n",
        "\n",
        "# 5. Convertir las entradas de texto a números decimales (float).\n",
        "largo = float(largo)\n",
        "ancho = float(ancho)\n",
        "densidad = float(densidad)\n",
        "\n",
        "# 6. Calcular el área en metros cuadrados (largo * ancho).\n",
        "area = largo * ancho\n",
        "\n",
        "# 7. Convertir el área a hectáreas (1 hectárea = 10,000 m²).\n",
        "area = area / 10000\n",
        "\n",
        "# 8. Calcular la cantidad total de semilla (área en hectáreas * densidad).\n",
        "Semillas = area * densidad\n",
        "\n",
        "# 9. Mostrar el resultado final al usuario de forma clara (print).\n",
        "print(\"La cantidad total de semillas a comprar es de\", Semillas, \"kg\")\n",
        "\n",
        "\n"
      ]
    },
    {
      "cell_type": "markdown",
      "metadata": {
        "id": "94fa26d1"
      },
      "source": [
        "Here's a line-by-line explanation of the Python code provided:\n",
        "\n",
        "1.  `print(\"Bienvenidos al calculo de semillas\")`: This line prints a welcome message to the user, indicating the purpose of the program.\n",
        "\n",
        "2.  `largo = input(\"Ingrese el largo del lote en metros: \")`: This line prompts the user to enter the length of the plot in meters and stores the input as a string in the variable `largo`.\n",
        "\n",
        "3.  `ancho = input(\"Ingrese el ancho del lote en metros: \")`: Similar to the previous line, this prompts the user for the width of the plot in meters and stores it as a string in the variable `ancho`.\n",
        "\n",
        "4.  `densidad = input(\"Ingrese la densidad de siembra en kg/hectárea: \")`: This line prompts the user to enter the seeding density in kilograms per hectare and stores it as a string in the variable `densidad`.\n",
        "\n",
        "5.  `largo = float(largo)`: This line converts the input string stored in `largo` into a floating-point number (a number with decimals) and updates the `largo` variable with this numerical value.\n",
        "\n",
        "6.  `ancho = float(ancho)`: This line converts the input string stored in `ancho` into a floating-point number and updates the `ancho` variable.\n",
        "\n",
        "7.  `densidad = float(densidad)`: This line converts the input string stored in `densidad` into a floating-point number and updates the `densidad` variable.\n",
        "\n",
        "8.  `area = largo * ancho`: This line calculates the area of the rectangular plot in square meters by multiplying the length (`largo`) and the width (`ancho`) and stores the result in the variable `area`.\n",
        "\n",
        "9.  `area = area / 10000`: This line converts the area from square meters to hectares by dividing the area in square meters by 10,000 (since 1 hectare = 10,000 square meters) and updates the `area` variable with the value in hectares.\n",
        "\n",
        "10. `Semillas = area * densidad`: This line calculates the total amount of seed needed by multiplying the area in hectares (`area`) by the seeding density in kilograms per hectare (`densidad`) and stores the result in the variable `Semillas`.\n",
        "\n",
        "11. `print(\"La cantidad total de semillas a comprar es de\", Semillas, \"kg\")`: This line prints the final result to the user, displaying the calculated total amount of seed in kilograms."
      ]
    }
  ]
}